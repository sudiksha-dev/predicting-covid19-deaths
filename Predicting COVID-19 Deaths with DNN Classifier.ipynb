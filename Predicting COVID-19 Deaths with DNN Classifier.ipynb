{
 "cells": [
  {
   "cell_type": "code",
   "execution_count": 187,
   "id": "18aed22b",
   "metadata": {},
   "outputs": [],
   "source": [
    "import tensorflow as tf\n",
    "\n",
    "import numpy as np\n",
    "import pandas as pd\n",
    "\n",
    "import matplotlib.pyplot as plt\n",
    "from sklearn.model_selection import train_test_split\n",
    "from sklearn.metrics import confusion_matrix,classification_report\n",
    "from sklearn.preprocessing import StandardScaler  \n",
    "import scikitplot as skplt"
   ]
  },
  {
   "cell_type": "code",
   "execution_count": 188,
   "id": "51b701ee",
   "metadata": {},
   "outputs": [
    {
     "name": "stdout",
     "output_type": "stream",
     "text": [
      " Volume in drive C is Windows\n",
      " Volume Serial Number is AC6A-A0D2\n",
      "\n",
      " Directory of C:\\Users\\sudik\\Jupyter Python Projects\\Machine Learning\\Predicting COVID-19 Deaths\n",
      "\n",
      "2023-01-06  03:35 AM    <DIR>          .\n",
      "2023-01-05  06:32 PM    <DIR>          ..\n",
      "2023-01-05  06:33 PM    <DIR>          .ipynb_checkpoints\n",
      "2023-01-05  06:32 PM        58,451,825 Covid Data.csv\n",
      "2023-01-06  03:35 AM            49,735 Predicting COVID-19 Deaths.ipynb\n",
      "               2 File(s)     58,501,560 bytes\n",
      "               3 Dir(s)  787,727,147,008 bytes free\n"
     ]
    }
   ],
   "source": [
    "ls"
   ]
  },
  {
   "cell_type": "code",
   "execution_count": 189,
   "id": "989a85bc",
   "metadata": {},
   "outputs": [],
   "source": [
    "df = pd.read_csv('Covid Data.csv')"
   ]
  },
  {
   "cell_type": "code",
   "execution_count": 190,
   "id": "2dc7569d",
   "metadata": {},
   "outputs": [
    {
     "data": {
      "text/html": [
       "<div>\n",
       "<style scoped>\n",
       "    .dataframe tbody tr th:only-of-type {\n",
       "        vertical-align: middle;\n",
       "    }\n",
       "\n",
       "    .dataframe tbody tr th {\n",
       "        vertical-align: top;\n",
       "    }\n",
       "\n",
       "    .dataframe thead th {\n",
       "        text-align: right;\n",
       "    }\n",
       "</style>\n",
       "<table border=\"1\" class=\"dataframe\">\n",
       "  <thead>\n",
       "    <tr style=\"text-align: right;\">\n",
       "      <th></th>\n",
       "      <th>USMER</th>\n",
       "      <th>MEDICAL_UNIT</th>\n",
       "      <th>SEX</th>\n",
       "      <th>PATIENT_TYPE</th>\n",
       "      <th>DATE_DIED</th>\n",
       "      <th>INTUBED</th>\n",
       "      <th>PNEUMONIA</th>\n",
       "      <th>AGE</th>\n",
       "      <th>PREGNANT</th>\n",
       "      <th>DIABETES</th>\n",
       "      <th>...</th>\n",
       "      <th>ASTHMA</th>\n",
       "      <th>INMSUPR</th>\n",
       "      <th>HIPERTENSION</th>\n",
       "      <th>OTHER_DISEASE</th>\n",
       "      <th>CARDIOVASCULAR</th>\n",
       "      <th>OBESITY</th>\n",
       "      <th>RENAL_CHRONIC</th>\n",
       "      <th>TOBACCO</th>\n",
       "      <th>CLASIFFICATION_FINAL</th>\n",
       "      <th>ICU</th>\n",
       "    </tr>\n",
       "  </thead>\n",
       "  <tbody>\n",
       "    <tr>\n",
       "      <th>0</th>\n",
       "      <td>2</td>\n",
       "      <td>1</td>\n",
       "      <td>1</td>\n",
       "      <td>1</td>\n",
       "      <td>03/05/2020</td>\n",
       "      <td>97</td>\n",
       "      <td>1</td>\n",
       "      <td>65</td>\n",
       "      <td>2</td>\n",
       "      <td>2</td>\n",
       "      <td>...</td>\n",
       "      <td>2</td>\n",
       "      <td>2</td>\n",
       "      <td>1</td>\n",
       "      <td>2</td>\n",
       "      <td>2</td>\n",
       "      <td>2</td>\n",
       "      <td>2</td>\n",
       "      <td>2</td>\n",
       "      <td>3</td>\n",
       "      <td>97</td>\n",
       "    </tr>\n",
       "    <tr>\n",
       "      <th>1</th>\n",
       "      <td>2</td>\n",
       "      <td>1</td>\n",
       "      <td>2</td>\n",
       "      <td>1</td>\n",
       "      <td>03/06/2020</td>\n",
       "      <td>97</td>\n",
       "      <td>1</td>\n",
       "      <td>72</td>\n",
       "      <td>97</td>\n",
       "      <td>2</td>\n",
       "      <td>...</td>\n",
       "      <td>2</td>\n",
       "      <td>2</td>\n",
       "      <td>1</td>\n",
       "      <td>2</td>\n",
       "      <td>2</td>\n",
       "      <td>1</td>\n",
       "      <td>1</td>\n",
       "      <td>2</td>\n",
       "      <td>5</td>\n",
       "      <td>97</td>\n",
       "    </tr>\n",
       "    <tr>\n",
       "      <th>2</th>\n",
       "      <td>2</td>\n",
       "      <td>1</td>\n",
       "      <td>2</td>\n",
       "      <td>2</td>\n",
       "      <td>09/06/2020</td>\n",
       "      <td>1</td>\n",
       "      <td>2</td>\n",
       "      <td>55</td>\n",
       "      <td>97</td>\n",
       "      <td>1</td>\n",
       "      <td>...</td>\n",
       "      <td>2</td>\n",
       "      <td>2</td>\n",
       "      <td>2</td>\n",
       "      <td>2</td>\n",
       "      <td>2</td>\n",
       "      <td>2</td>\n",
       "      <td>2</td>\n",
       "      <td>2</td>\n",
       "      <td>3</td>\n",
       "      <td>2</td>\n",
       "    </tr>\n",
       "    <tr>\n",
       "      <th>3</th>\n",
       "      <td>2</td>\n",
       "      <td>1</td>\n",
       "      <td>1</td>\n",
       "      <td>1</td>\n",
       "      <td>12/06/2020</td>\n",
       "      <td>97</td>\n",
       "      <td>2</td>\n",
       "      <td>53</td>\n",
       "      <td>2</td>\n",
       "      <td>2</td>\n",
       "      <td>...</td>\n",
       "      <td>2</td>\n",
       "      <td>2</td>\n",
       "      <td>2</td>\n",
       "      <td>2</td>\n",
       "      <td>2</td>\n",
       "      <td>2</td>\n",
       "      <td>2</td>\n",
       "      <td>2</td>\n",
       "      <td>7</td>\n",
       "      <td>97</td>\n",
       "    </tr>\n",
       "    <tr>\n",
       "      <th>4</th>\n",
       "      <td>2</td>\n",
       "      <td>1</td>\n",
       "      <td>2</td>\n",
       "      <td>1</td>\n",
       "      <td>21/06/2020</td>\n",
       "      <td>97</td>\n",
       "      <td>2</td>\n",
       "      <td>68</td>\n",
       "      <td>97</td>\n",
       "      <td>1</td>\n",
       "      <td>...</td>\n",
       "      <td>2</td>\n",
       "      <td>2</td>\n",
       "      <td>1</td>\n",
       "      <td>2</td>\n",
       "      <td>2</td>\n",
       "      <td>2</td>\n",
       "      <td>2</td>\n",
       "      <td>2</td>\n",
       "      <td>3</td>\n",
       "      <td>97</td>\n",
       "    </tr>\n",
       "  </tbody>\n",
       "</table>\n",
       "<p>5 rows × 21 columns</p>\n",
       "</div>"
      ],
      "text/plain": [
       "   USMER  MEDICAL_UNIT  SEX  PATIENT_TYPE   DATE_DIED  INTUBED  PNEUMONIA  \\\n",
       "0      2             1    1             1  03/05/2020       97          1   \n",
       "1      2             1    2             1  03/06/2020       97          1   \n",
       "2      2             1    2             2  09/06/2020        1          2   \n",
       "3      2             1    1             1  12/06/2020       97          2   \n",
       "4      2             1    2             1  21/06/2020       97          2   \n",
       "\n",
       "   AGE  PREGNANT  DIABETES  ...  ASTHMA  INMSUPR  HIPERTENSION  OTHER_DISEASE  \\\n",
       "0   65         2         2  ...       2        2             1              2   \n",
       "1   72        97         2  ...       2        2             1              2   \n",
       "2   55        97         1  ...       2        2             2              2   \n",
       "3   53         2         2  ...       2        2             2              2   \n",
       "4   68        97         1  ...       2        2             1              2   \n",
       "\n",
       "   CARDIOVASCULAR  OBESITY  RENAL_CHRONIC  TOBACCO  CLASIFFICATION_FINAL  ICU  \n",
       "0               2        2              2        2                     3   97  \n",
       "1               2        1              1        2                     5   97  \n",
       "2               2        2              2        2                     3    2  \n",
       "3               2        2              2        2                     7   97  \n",
       "4               2        2              2        2                     3   97  \n",
       "\n",
       "[5 rows x 21 columns]"
      ]
     },
     "execution_count": 190,
     "metadata": {},
     "output_type": "execute_result"
    }
   ],
   "source": [
    "df.head()"
   ]
  },
  {
   "cell_type": "code",
   "execution_count": 191,
   "id": "0bcb61b7",
   "metadata": {},
   "outputs": [
    {
     "name": "stdout",
     "output_type": "stream",
     "text": [
      "<class 'pandas.core.frame.DataFrame'>\n",
      "RangeIndex: 1048575 entries, 0 to 1048574\n",
      "Data columns (total 21 columns):\n",
      " #   Column                Non-Null Count    Dtype \n",
      "---  ------                --------------    ----- \n",
      " 0   USMER                 1048575 non-null  int64 \n",
      " 1   MEDICAL_UNIT          1048575 non-null  int64 \n",
      " 2   SEX                   1048575 non-null  int64 \n",
      " 3   PATIENT_TYPE          1048575 non-null  int64 \n",
      " 4   DATE_DIED             1048575 non-null  object\n",
      " 5   INTUBED               1048575 non-null  int64 \n",
      " 6   PNEUMONIA             1048575 non-null  int64 \n",
      " 7   AGE                   1048575 non-null  int64 \n",
      " 8   PREGNANT              1048575 non-null  int64 \n",
      " 9   DIABETES              1048575 non-null  int64 \n",
      " 10  COPD                  1048575 non-null  int64 \n",
      " 11  ASTHMA                1048575 non-null  int64 \n",
      " 12  INMSUPR               1048575 non-null  int64 \n",
      " 13  HIPERTENSION          1048575 non-null  int64 \n",
      " 14  OTHER_DISEASE         1048575 non-null  int64 \n",
      " 15  CARDIOVASCULAR        1048575 non-null  int64 \n",
      " 16  OBESITY               1048575 non-null  int64 \n",
      " 17  RENAL_CHRONIC         1048575 non-null  int64 \n",
      " 18  TOBACCO               1048575 non-null  int64 \n",
      " 19  CLASIFFICATION_FINAL  1048575 non-null  int64 \n",
      " 20  ICU                   1048575 non-null  int64 \n",
      "dtypes: int64(20), object(1)\n",
      "memory usage: 168.0+ MB\n"
     ]
    }
   ],
   "source": [
    "df.info()"
   ]
  },
  {
   "cell_type": "code",
   "execution_count": 192,
   "id": "bccb1cf6",
   "metadata": {},
   "outputs": [],
   "source": [
    "df['DATE_DIED'] = [0 if row=='9999-99-99' else 1 for row in df['DATE_DIED']]"
   ]
  },
  {
   "cell_type": "code",
   "execution_count": 193,
   "id": "15ab87d5",
   "metadata": {},
   "outputs": [
    {
     "name": "stdout",
     "output_type": "stream",
     "text": [
      "<class 'pandas.core.frame.DataFrame'>\n",
      "RangeIndex: 1048575 entries, 0 to 1048574\n",
      "Data columns (total 21 columns):\n",
      " #   Column                Non-Null Count    Dtype\n",
      "---  ------                --------------    -----\n",
      " 0   USMER                 1048575 non-null  int64\n",
      " 1   MEDICAL_UNIT          1048575 non-null  int64\n",
      " 2   SEX                   1048575 non-null  int64\n",
      " 3   PATIENT_TYPE          1048575 non-null  int64\n",
      " 4   DATE_DIED             1048575 non-null  int64\n",
      " 5   INTUBED               1048575 non-null  int64\n",
      " 6   PNEUMONIA             1048575 non-null  int64\n",
      " 7   AGE                   1048575 non-null  int64\n",
      " 8   PREGNANT              1048575 non-null  int64\n",
      " 9   DIABETES              1048575 non-null  int64\n",
      " 10  COPD                  1048575 non-null  int64\n",
      " 11  ASTHMA                1048575 non-null  int64\n",
      " 12  INMSUPR               1048575 non-null  int64\n",
      " 13  HIPERTENSION          1048575 non-null  int64\n",
      " 14  OTHER_DISEASE         1048575 non-null  int64\n",
      " 15  CARDIOVASCULAR        1048575 non-null  int64\n",
      " 16  OBESITY               1048575 non-null  int64\n",
      " 17  RENAL_CHRONIC         1048575 non-null  int64\n",
      " 18  TOBACCO               1048575 non-null  int64\n",
      " 19  CLASIFFICATION_FINAL  1048575 non-null  int64\n",
      " 20  ICU                   1048575 non-null  int64\n",
      "dtypes: int64(21)\n",
      "memory usage: 168.0 MB\n"
     ]
    }
   ],
   "source": [
    "df.info()"
   ]
  },
  {
   "cell_type": "code",
   "execution_count": 194,
   "id": "0e8787b0",
   "metadata": {},
   "outputs": [],
   "source": [
    "col_norm = df.columns"
   ]
  },
  {
   "cell_type": "code",
   "execution_count": 195,
   "id": "43aa4e13",
   "metadata": {},
   "outputs": [
    {
     "data": {
      "text/html": [
       "<div>\n",
       "<style scoped>\n",
       "    .dataframe tbody tr th:only-of-type {\n",
       "        vertical-align: middle;\n",
       "    }\n",
       "\n",
       "    .dataframe tbody tr th {\n",
       "        vertical-align: top;\n",
       "    }\n",
       "\n",
       "    .dataframe thead th {\n",
       "        text-align: right;\n",
       "    }\n",
       "</style>\n",
       "<table border=\"1\" class=\"dataframe\">\n",
       "  <thead>\n",
       "    <tr style=\"text-align: right;\">\n",
       "      <th></th>\n",
       "      <th>USMER</th>\n",
       "      <th>MEDICAL_UNIT</th>\n",
       "      <th>SEX</th>\n",
       "      <th>PATIENT_TYPE</th>\n",
       "      <th>DATE_DIED</th>\n",
       "      <th>INTUBED</th>\n",
       "      <th>PNEUMONIA</th>\n",
       "      <th>AGE</th>\n",
       "      <th>PREGNANT</th>\n",
       "      <th>DIABETES</th>\n",
       "      <th>...</th>\n",
       "      <th>ASTHMA</th>\n",
       "      <th>INMSUPR</th>\n",
       "      <th>HIPERTENSION</th>\n",
       "      <th>OTHER_DISEASE</th>\n",
       "      <th>CARDIOVASCULAR</th>\n",
       "      <th>OBESITY</th>\n",
       "      <th>RENAL_CHRONIC</th>\n",
       "      <th>TOBACCO</th>\n",
       "      <th>CLASIFFICATION_FINAL</th>\n",
       "      <th>ICU</th>\n",
       "    </tr>\n",
       "  </thead>\n",
       "  <tbody>\n",
       "    <tr>\n",
       "      <th>0</th>\n",
       "      <td>2</td>\n",
       "      <td>1</td>\n",
       "      <td>1</td>\n",
       "      <td>1</td>\n",
       "      <td>1</td>\n",
       "      <td>97</td>\n",
       "      <td>1</td>\n",
       "      <td>65</td>\n",
       "      <td>2</td>\n",
       "      <td>2</td>\n",
       "      <td>...</td>\n",
       "      <td>2</td>\n",
       "      <td>2</td>\n",
       "      <td>1</td>\n",
       "      <td>2</td>\n",
       "      <td>2</td>\n",
       "      <td>2</td>\n",
       "      <td>2</td>\n",
       "      <td>2</td>\n",
       "      <td>3</td>\n",
       "      <td>97</td>\n",
       "    </tr>\n",
       "    <tr>\n",
       "      <th>1</th>\n",
       "      <td>2</td>\n",
       "      <td>1</td>\n",
       "      <td>2</td>\n",
       "      <td>1</td>\n",
       "      <td>1</td>\n",
       "      <td>97</td>\n",
       "      <td>1</td>\n",
       "      <td>72</td>\n",
       "      <td>97</td>\n",
       "      <td>2</td>\n",
       "      <td>...</td>\n",
       "      <td>2</td>\n",
       "      <td>2</td>\n",
       "      <td>1</td>\n",
       "      <td>2</td>\n",
       "      <td>2</td>\n",
       "      <td>1</td>\n",
       "      <td>1</td>\n",
       "      <td>2</td>\n",
       "      <td>5</td>\n",
       "      <td>97</td>\n",
       "    </tr>\n",
       "  </tbody>\n",
       "</table>\n",
       "<p>2 rows × 21 columns</p>\n",
       "</div>"
      ],
      "text/plain": [
       "   USMER  MEDICAL_UNIT  SEX  PATIENT_TYPE  DATE_DIED  INTUBED  PNEUMONIA  AGE  \\\n",
       "0      2             1    1             1          1       97          1   65   \n",
       "1      2             1    2             1          1       97          1   72   \n",
       "\n",
       "   PREGNANT  DIABETES  ...  ASTHMA  INMSUPR  HIPERTENSION  OTHER_DISEASE  \\\n",
       "0         2         2  ...       2        2             1              2   \n",
       "1        97         2  ...       2        2             1              2   \n",
       "\n",
       "   CARDIOVASCULAR  OBESITY  RENAL_CHRONIC  TOBACCO  CLASIFFICATION_FINAL  ICU  \n",
       "0               2        2              2        2                     3   97  \n",
       "1               2        1              1        2                     5   97  \n",
       "\n",
       "[2 rows x 21 columns]"
      ]
     },
     "execution_count": 195,
     "metadata": {},
     "output_type": "execute_result"
    }
   ],
   "source": [
    "df.head(2)"
   ]
  },
  {
   "cell_type": "code",
   "execution_count": 196,
   "id": "321831b1",
   "metadata": {},
   "outputs": [],
   "source": [
    "df1_norm = df[col_norm].apply(lambda x :( (x - x.min()) / (x.max()-x.min()) ) )"
   ]
  },
  {
   "cell_type": "code",
   "execution_count": 198,
   "id": "efc4fecc",
   "metadata": {
    "scrolled": false
   },
   "outputs": [
    {
     "data": {
      "text/html": [
       "<div>\n",
       "<style scoped>\n",
       "    .dataframe tbody tr th:only-of-type {\n",
       "        vertical-align: middle;\n",
       "    }\n",
       "\n",
       "    .dataframe tbody tr th {\n",
       "        vertical-align: top;\n",
       "    }\n",
       "\n",
       "    .dataframe thead th {\n",
       "        text-align: right;\n",
       "    }\n",
       "</style>\n",
       "<table border=\"1\" class=\"dataframe\">\n",
       "  <thead>\n",
       "    <tr style=\"text-align: right;\">\n",
       "      <th></th>\n",
       "      <th>USMER</th>\n",
       "      <th>MEDICAL_UNIT</th>\n",
       "      <th>SEX</th>\n",
       "      <th>PATIENT_TYPE</th>\n",
       "      <th>DATE_DIED</th>\n",
       "      <th>INTUBED</th>\n",
       "      <th>PNEUMONIA</th>\n",
       "      <th>AGE</th>\n",
       "      <th>PREGNANT</th>\n",
       "      <th>DIABETES</th>\n",
       "      <th>...</th>\n",
       "      <th>ASTHMA</th>\n",
       "      <th>INMSUPR</th>\n",
       "      <th>HIPERTENSION</th>\n",
       "      <th>OTHER_DISEASE</th>\n",
       "      <th>CARDIOVASCULAR</th>\n",
       "      <th>OBESITY</th>\n",
       "      <th>RENAL_CHRONIC</th>\n",
       "      <th>TOBACCO</th>\n",
       "      <th>CLASIFFICATION_FINAL</th>\n",
       "      <th>ICU</th>\n",
       "    </tr>\n",
       "  </thead>\n",
       "  <tbody>\n",
       "    <tr>\n",
       "      <th>0</th>\n",
       "      <td>1.0</td>\n",
       "      <td>0.0</td>\n",
       "      <td>0.0</td>\n",
       "      <td>0.0</td>\n",
       "      <td>1.0</td>\n",
       "      <td>0.979592</td>\n",
       "      <td>0.0</td>\n",
       "      <td>0.537190</td>\n",
       "      <td>0.010309</td>\n",
       "      <td>0.010309</td>\n",
       "      <td>...</td>\n",
       "      <td>0.010309</td>\n",
       "      <td>0.010309</td>\n",
       "      <td>0.0</td>\n",
       "      <td>0.010309</td>\n",
       "      <td>0.010309</td>\n",
       "      <td>0.010309</td>\n",
       "      <td>0.010309</td>\n",
       "      <td>0.010309</td>\n",
       "      <td>0.333333</td>\n",
       "      <td>0.979592</td>\n",
       "    </tr>\n",
       "    <tr>\n",
       "      <th>1</th>\n",
       "      <td>1.0</td>\n",
       "      <td>0.0</td>\n",
       "      <td>1.0</td>\n",
       "      <td>0.0</td>\n",
       "      <td>1.0</td>\n",
       "      <td>0.979592</td>\n",
       "      <td>0.0</td>\n",
       "      <td>0.595041</td>\n",
       "      <td>0.989691</td>\n",
       "      <td>0.010309</td>\n",
       "      <td>...</td>\n",
       "      <td>0.010309</td>\n",
       "      <td>0.010309</td>\n",
       "      <td>0.0</td>\n",
       "      <td>0.010309</td>\n",
       "      <td>0.010309</td>\n",
       "      <td>0.000000</td>\n",
       "      <td>0.000000</td>\n",
       "      <td>0.010309</td>\n",
       "      <td>0.666667</td>\n",
       "      <td>0.979592</td>\n",
       "    </tr>\n",
       "  </tbody>\n",
       "</table>\n",
       "<p>2 rows × 21 columns</p>\n",
       "</div>"
      ],
      "text/plain": [
       "   USMER  MEDICAL_UNIT  SEX  PATIENT_TYPE  DATE_DIED   INTUBED  PNEUMONIA  \\\n",
       "0    1.0           0.0  0.0           0.0        1.0  0.979592        0.0   \n",
       "1    1.0           0.0  1.0           0.0        1.0  0.979592        0.0   \n",
       "\n",
       "        AGE  PREGNANT  DIABETES  ...    ASTHMA   INMSUPR  HIPERTENSION  \\\n",
       "0  0.537190  0.010309  0.010309  ...  0.010309  0.010309           0.0   \n",
       "1  0.595041  0.989691  0.010309  ...  0.010309  0.010309           0.0   \n",
       "\n",
       "   OTHER_DISEASE  CARDIOVASCULAR   OBESITY  RENAL_CHRONIC   TOBACCO  \\\n",
       "0       0.010309        0.010309  0.010309       0.010309  0.010309   \n",
       "1       0.010309        0.010309  0.000000       0.000000  0.010309   \n",
       "\n",
       "   CLASIFFICATION_FINAL       ICU  \n",
       "0              0.333333  0.979592  \n",
       "1              0.666667  0.979592  \n",
       "\n",
       "[2 rows x 21 columns]"
      ]
     },
     "execution_count": 198,
     "metadata": {},
     "output_type": "execute_result"
    }
   ],
   "source": [
    "df.head(2)"
   ]
  },
  {
   "cell_type": "code",
   "execution_count": 199,
   "id": "bd1df15b",
   "metadata": {},
   "outputs": [
    {
     "data": {
      "text/plain": [
       "Index(['USMER', 'MEDICAL_UNIT', 'SEX', 'PATIENT_TYPE', 'DATE_DIED', 'INTUBED',\n",
       "       'PNEUMONIA', 'AGE', 'PREGNANT', 'DIABETES', 'COPD', 'ASTHMA', 'INMSUPR',\n",
       "       'HIPERTENSION', 'OTHER_DISEASE', 'CARDIOVASCULAR', 'OBESITY',\n",
       "       'RENAL_CHRONIC', 'TOBACCO', 'CLASIFFICATION_FINAL', 'ICU'],\n",
       "      dtype='object')"
      ]
     },
     "execution_count": 199,
     "metadata": {},
     "output_type": "execute_result"
    }
   ],
   "source": [
    "col_norm"
   ]
  },
  {
   "cell_type": "code",
   "execution_count": 200,
   "id": "d5fdcf1a",
   "metadata": {},
   "outputs": [],
   "source": [
    "def create_feature_column():\n",
    "    \n",
    "    feat_USMER = tf.feature_column.numeric_column('USMER')\n",
    "    feat_MEDICAL_UNIT = tf.feature_column.numeric_column('MEDICAL_UNIT')\n",
    "    feat_SEX = tf.feature_column.numeric_column('SEX')\n",
    "    feat_PATIENT_TYPE = tf.feature_column.numeric_column('PATIENT_TYPE')\n",
    "    feat_INTUBED = tf.feature_column.numeric_column('INTUBED')\n",
    "    feat_PNEUMONIA = tf.feature_column.numeric_column('PNEUMONIA')\n",
    "    feat_AGE = tf.feature_column.numeric_column('AGE')\n",
    "    feat_PREGNANT = tf.feature_column.numeric_column('PREGNANT')\n",
    "    feat_DIABETES = tf.feature_column.numeric_column('DIABETES')\n",
    "    feat_COPD = tf.feature_column.numeric_column('COPD')\n",
    "    feat_ASTHMA = tf.feature_column.numeric_column('ASTHMA')\n",
    "    feat_INMSUPR = tf.feature_column.numeric_column('INMSUPR')\n",
    "    feat_HIPERTENSION = tf.feature_column.numeric_column('HIPERTENSION')\n",
    "    feat_OTHER_DISEASE = tf.feature_column.numeric_column('OTHER_DISEASE')\n",
    "    feat_CARDIOVASCULAR = tf.feature_column.numeric_column('CARDIOVASCULAR')\n",
    "    feat_OBESITY = tf.feature_column.numeric_column('OBESITY')\n",
    "    feat_RENAL_CHRONIC = tf.feature_column.numeric_column('RENAL_CHRONIC')\n",
    "    feat_TOBACCO = tf.feature_column.numeric_column('TOBACCO')\n",
    "    feat_CLASIFFICATION_FINAL = tf.feature_column.numeric_column('CLASIFFICATION_FINAL')\n",
    "    feat_ICU = tf.feature_column.numeric_column('ICU')\n",
    "    \n",
    "    feature_column = [feat_USMER, feat_MEDICAL_UNIT, feat_SEX, feat_PATIENT_TYPE, feat_INTUBED, \n",
    "                      feat_PNEUMONIA , feat_AGE, feat_PREGNANT, feat_DIABETES, feat_COPD, feat_ASTHMA,\n",
    "                      feat_INMSUPR, feat_HIPERTENSION, feat_OTHER_DISEASE, feat_CARDIOVASCULAR, feat_OBESITY,\n",
    "                      feat_RENAL_CHRONIC, feat_TOBACCO, feat_CLASIFFICATION_FINAL, feat_ICU] \n",
    "    \n",
    "    return feature_column\n",
    "\n",
    "feature_column = create_feature_column()"
   ]
  },
  {
   "cell_type": "code",
   "execution_count": 201,
   "id": "f1e4f1e9",
   "metadata": {},
   "outputs": [],
   "source": [
    "x = df1_norm\n",
    "y = df['DATE_DIED']\n",
    "\n",
    "X_Train, X_Test, Y_Train, Y_Test = train_test_split(x, y, test_size = 0.2, random_state = 42)"
   ]
  },
  {
   "cell_type": "code",
   "execution_count": 202,
   "id": "d5d5ffcc",
   "metadata": {},
   "outputs": [],
   "source": [
    "input_func = tf.compat.v1.estimator.inputs.pandas_input_fn(X_Train, \n",
    "                                                           Y_Train,\n",
    "                                                           batch_size = 50,\n",
    "                                                           num_epochs = 1000,\n",
    "                                                           shuffle = True)"
   ]
  },
  {
   "cell_type": "code",
   "execution_count": 203,
   "id": "524169e3",
   "metadata": {},
   "outputs": [],
   "source": [
    "eval_func = tf.compat.v1.estimator.inputs.pandas_input_fn(X_Test,\n",
    "                                                          Y_Test,\n",
    "                                                          batch_size = 50,\n",
    "                                                          num_epochs = 1,\n",
    "                                                          shuffle = False)"
   ]
  },
  {
   "cell_type": "code",
   "execution_count": 204,
   "id": "9e277ba4",
   "metadata": {},
   "outputs": [],
   "source": [
    "predict_input_fn = tf.compat.v1.estimator.inputs.pandas_input_fn(x = X_Test,\n",
    "                                                                 num_epochs = 1,\n",
    "                                                                 shuffle = False)"
   ]
  },
  {
   "cell_type": "code",
   "execution_count": 205,
   "id": "0463f648",
   "metadata": {},
   "outputs": [
    {
     "name": "stdout",
     "output_type": "stream",
     "text": [
      "INFO:tensorflow:Using default config.\n",
      "WARNING:tensorflow:Using temporary folder as model directory: C:\\Users\\sudik\\AppData\\Local\\Temp\\tmpkh61rza3\n",
      "INFO:tensorflow:Using config: {'_model_dir': 'C:\\\\Users\\\\sudik\\\\AppData\\\\Local\\\\Temp\\\\tmpkh61rza3', '_tf_random_seed': None, '_save_summary_steps': 100, '_save_checkpoints_steps': None, '_save_checkpoints_secs': 600, '_session_config': allow_soft_placement: true\n",
      "graph_options {\n",
      "  rewrite_options {\n",
      "    meta_optimizer_iterations: ONE\n",
      "  }\n",
      "}\n",
      ", '_keep_checkpoint_max': 5, '_keep_checkpoint_every_n_hours': 10000, '_log_step_count_steps': 100, '_train_distribute': None, '_device_fn': None, '_protocol': None, '_eval_distribute': None, '_experimental_distribute': None, '_experimental_max_worker_delay_secs': None, '_session_creation_timeout_secs': 7200, '_checkpoint_save_graph_def': True, '_service': None, '_cluster_spec': ClusterSpec({}), '_task_type': 'worker', '_task_id': 0, '_global_id_in_cluster': 0, '_master': '', '_evaluation_master': '', '_is_chief': True, '_num_ps_replicas': 0, '_num_worker_replicas': 1}\n"
     ]
    }
   ],
   "source": [
    "dnnmodel = tf.estimator.DNNClassifier(hidden_units = [20,20],\n",
    "                                      feature_columns = feature_column,\n",
    "                                      n_classes = 2,\n",
    "                                      activation_fn = tf.nn.softmax,\n",
    "                                      dropout = None,\n",
    "                                      optimizer = tf.keras.optimizers.Adam(learning_rate=0.01)\n",
    "                                    )"
   ]
  },
  {
   "cell_type": "code",
   "execution_count": 206,
   "id": "f3fec00c",
   "metadata": {},
   "outputs": [
    {
     "name": "stdout",
     "output_type": "stream",
     "text": [
      "WARNING:tensorflow:From C:\\Users\\sudik\\anaconda3\\lib\\site-packages\\tensorflow_estimator\\python\\estimator\\inputs\\queues\\feeding_queue_runner.py:60: QueueRunner.__init__ (from tensorflow.python.training.queue_runner_impl) is deprecated and will be removed in a future version.\n",
      "Instructions for updating:\n",
      "To construct input pipelines, use the `tf.data` module.\n",
      "WARNING:tensorflow:From C:\\Users\\sudik\\anaconda3\\lib\\site-packages\\tensorflow_estimator\\python\\estimator\\inputs\\queues\\feeding_functions.py:491: add_queue_runner (from tensorflow.python.training.queue_runner_impl) is deprecated and will be removed in a future version.\n",
      "Instructions for updating:\n",
      "To construct input pipelines, use the `tf.data` module.\n",
      "INFO:tensorflow:Calling model_fn.\n",
      "INFO:tensorflow:Done calling model_fn.\n",
      "INFO:tensorflow:Create CheckpointSaverHook.\n",
      "INFO:tensorflow:Graph was finalized.\n",
      "INFO:tensorflow:Running local_init_op.\n",
      "INFO:tensorflow:Done running local_init_op.\n",
      "WARNING:tensorflow:From C:\\Users\\sudik\\anaconda3\\lib\\site-packages\\tensorflow\\python\\training\\monitored_session.py:914: start_queue_runners (from tensorflow.python.training.queue_runner_impl) is deprecated and will be removed in a future version.\n",
      "Instructions for updating:\n",
      "To construct input pipelines, use the `tf.data` module.\n",
      "INFO:tensorflow:Calling checkpoint listeners before saving checkpoint 0...\n",
      "INFO:tensorflow:Saving checkpoints for 0 into C:\\Users\\sudik\\AppData\\Local\\Temp\\tmpkh61rza3\\model.ckpt.\n",
      "INFO:tensorflow:C:\\Users\\sudik\\AppData\\Local\\Temp\\tmpkh61rza3\\model.ckpt-0.data-00000-of-00001\n",
      "INFO:tensorflow:0\n",
      "INFO:tensorflow:C:\\Users\\sudik\\AppData\\Local\\Temp\\tmpkh61rza3\\model.ckpt-0.index\n",
      "INFO:tensorflow:0\n",
      "INFO:tensorflow:C:\\Users\\sudik\\AppData\\Local\\Temp\\tmpkh61rza3\\model.ckpt-0.meta\n",
      "INFO:tensorflow:200\n",
      "INFO:tensorflow:Calling checkpoint listeners after saving checkpoint 0...\n",
      "INFO:tensorflow:loss = 0.67947054, step = 0\n",
      "INFO:tensorflow:global_step/sec: 107.292\n",
      "INFO:tensorflow:loss = 0.24259394, step = 100 (0.945 sec)\n",
      "INFO:tensorflow:global_step/sec: 137.962\n",
      "INFO:tensorflow:loss = 0.13224915, step = 200 (0.723 sec)\n",
      "INFO:tensorflow:global_step/sec: 133.554\n",
      "INFO:tensorflow:loss = 0.048494615, step = 300 (0.747 sec)\n",
      "INFO:tensorflow:global_step/sec: 129.016\n",
      "INFO:tensorflow:loss = 0.21728902, step = 400 (0.777 sec)\n",
      "INFO:tensorflow:Calling checkpoint listeners before saving checkpoint 500...\n",
      "INFO:tensorflow:Saving checkpoints for 500 into C:\\Users\\sudik\\AppData\\Local\\Temp\\tmpkh61rza3\\model.ckpt.\n",
      "INFO:tensorflow:C:\\Users\\sudik\\AppData\\Local\\Temp\\tmpkh61rza3\\model.ckpt-500.data-00000-of-00001\n",
      "INFO:tensorflow:0\n",
      "INFO:tensorflow:C:\\Users\\sudik\\AppData\\Local\\Temp\\tmpkh61rza3\\model.ckpt-500.index\n",
      "INFO:tensorflow:0\n",
      "INFO:tensorflow:C:\\Users\\sudik\\AppData\\Local\\Temp\\tmpkh61rza3\\model.ckpt-500.meta\n",
      "INFO:tensorflow:200\n",
      "INFO:tensorflow:Calling checkpoint listeners after saving checkpoint 500...\n",
      "INFO:tensorflow:Loss for final step: 0.1463121.\n"
     ]
    }
   ],
   "source": [
    "history = dnnmodel.train(input_fn = input_func, steps = 500)"
   ]
  },
  {
   "cell_type": "code",
   "execution_count": 208,
   "id": "ae88b34d",
   "metadata": {},
   "outputs": [
    {
     "name": "stdout",
     "output_type": "stream",
     "text": [
      "INFO:tensorflow:Calling model_fn.\n",
      "INFO:tensorflow:Done calling model_fn.\n",
      "INFO:tensorflow:Starting evaluation at 2023-01-06T03:38:13\n",
      "INFO:tensorflow:Graph was finalized.\n",
      "INFO:tensorflow:Restoring parameters from C:\\Users\\sudik\\AppData\\Local\\Temp\\tmpkh61rza3\\model.ckpt-500\n",
      "INFO:tensorflow:Running local_init_op.\n",
      "INFO:tensorflow:Done running local_init_op.\n",
      "INFO:tensorflow:Inference Time : 20.38893s\n",
      "INFO:tensorflow:Finished evaluation at 2023-01-06-03:38:33\n",
      "INFO:tensorflow:Saving dict for global step 500: accuracy = 0.92732996, accuracy_baseline = 0.92732996, auc = 0.9167198, auc_precision_recall = 0.35616398, average_loss = 0.15843129, global_step = 500, label/mean = 0.07267005, loss = 0.1584192, precision = 0.0, prediction/mean = 0.08209175, recall = 0.0\n",
      "INFO:tensorflow:Saving 'checkpoint_path' summary for global step 500: C:\\Users\\sudik\\AppData\\Local\\Temp\\tmpkh61rza3\\model.ckpt-500\n"
     ]
    },
    {
     "data": {
      "text/plain": [
       "{'accuracy': 0.92732996,\n",
       " 'accuracy_baseline': 0.92732996,\n",
       " 'auc': 0.9167198,\n",
       " 'auc_precision_recall': 0.35616398,\n",
       " 'average_loss': 0.15843129,\n",
       " 'label/mean': 0.07267005,\n",
       " 'loss': 0.1584192,\n",
       " 'precision': 0.0,\n",
       " 'prediction/mean': 0.08209175,\n",
       " 'recall': 0.0,\n",
       " 'global_step': 500}"
      ]
     },
     "execution_count": 208,
     "metadata": {},
     "output_type": "execute_result"
    }
   ],
   "source": [
    "dnnmodel.evaluate(eval_func)"
   ]
  },
  {
   "cell_type": "code",
   "execution_count": null,
   "id": "a044a273",
   "metadata": {},
   "outputs": [],
   "source": [
    "predictions = list(dnnmodel.predict(input_fn = predict_input_fn))\n",
    "prediction = [p[\"class_ids\"][0] for p in predictions]\n",
    "data = classification_report(Y_Test, prediction)\n",
    "conmat = confusion_matrix(Y_Test, prediction)"
   ]
  },
  {
   "cell_type": "code",
   "execution_count": 210,
   "id": "f0b832bc",
   "metadata": {},
   "outputs": [
    {
     "data": {
      "text/plain": [
       "<AxesSubplot:title={'center':'Confusion Matrix'}, xlabel='Predicted label', ylabel='True label'>"
      ]
     },
     "execution_count": 210,
     "metadata": {},
     "output_type": "execute_result"
    },
    {
     "data": {
      "image/png": "[encoded data removed]",
      "text/plain": [
       "<Figure size 600x600 with 2 Axes>"
      ]
     },
     "metadata": {},
     "output_type": "display_data"
    }
   ],
   "source": [
    "skplt.metrics.plot_confusion_matrix(Y_Test, \n",
    "                                    prediction,\n",
    "                                    figsize = (6,6),\n",
    "                                    title = \"Confusion Matrix\")"
   ]
  },
  {
   "cell_type": "code",
   "execution_count": 211,
   "id": "25432f0b",
   "metadata": {},
   "outputs": [
    {
     "name": "stdout",
     "output_type": "stream",
     "text": [
      "              precision    recall  f1-score   support\n",
      "\n",
      "         0.0       0.93      1.00      0.96    194475\n",
      "         1.0       0.00      0.00      0.00     15240\n",
      "\n",
      "    accuracy                           0.93    209715\n",
      "   macro avg       0.46      0.50      0.48    209715\n",
      "weighted avg       0.86      0.93      0.89    209715\n",
      "\n"
     ]
    }
   ],
   "source": [
    "print(data)"
   ]
  },
  {
   "cell_type": "code",
   "execution_count": null,
   "id": "a000b664",
   "metadata": {},
   "outputs": [],
   "source": []
  }
 ],
 "metadata": {
  "kernelspec": {
   "display_name": "Python 3 (ipykernel)",
   "language": "python",
   "name": "python3"
  },
  "language_info": {
   "codemirror_mode": {
    "name": "ipython",
    "version": 3
   },
   "file_extension": ".py",
   "mimetype": "text/x-python",
   "name": "python",
   "nbconvert_exporter": "python",
   "pygments_lexer": "ipython3",
   "version": "3.9.13"
  }
 },
 "nbformat": 4,
 "nbformat_minor": 5
}
